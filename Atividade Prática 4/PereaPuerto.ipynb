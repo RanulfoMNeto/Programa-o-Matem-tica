{
  "nbformat": 4,
  "nbformat_minor": 0,
  "metadata": {
    "colab": {
      "provenance": []
    },
    "kernelspec": {
      "name": "python3",
      "display_name": "Python 3"
    },
    "language_info": {
      "name": "python"
    }
  },
  "cells": [
    {
      "cell_type": "markdown",
      "source": [
        "# GCC118 - Programação Matemática\n",
        "## Universidade Federal de Lavras\n",
        "### Instituto de Ciências Exatas e Tecnológicas\n",
        "#### Profa. Andreza C. Beezão Moreira (DMM/UFLA)\n",
        "#### Prof. Mayron César O. Moreira (DCC/UFLA)\n",
        "\n",
        "#### Grupo:\n",
        "  - Ranulfo Mascari Neto\n",
        "  - Heitor Rodrigues Sabino"
      ],
      "metadata": {
        "id": "OoQQNGlLfF82"
      }
    },
    {
      "cell_type": "markdown",
      "source": [
        "## **Implementação 1: Maximizar a Recompensa Esperada**\n",
        "Nesta abordagem, o objetivo é calcular a **melhor estratégia para maximizar a recompensa esperada** ao longo do jogo. Cada estado do jogo é avaliado considerando:\n",
        "- **Parar o jogo** e receber a recompensa acumulada.\n",
        "- **Responder à questão atual**, com ou sem o uso de ajudas, avaliando as recompensas esperadas nos estados seguintes.\n",
        "\n",
        "### **Inputs**\n",
        "1. **$N$**: Número total de estágios no jogo (16, considerando 15 questões + estágio final).\n",
        "2. **$r_k$**: Lista das recompensas acumuladas ao parar após cada questão.\n",
        "3. **$r_k^*$**: Lista das recompensas garantidas ao errar após alcançar os marcos de segurança.\n",
        "4. **$p_k^*$**: Função que calcula a probabilidade de acertar a questão $k$ sem usar ajudas.\n",
        "5. **Lifelines**: Lista das ajudas disponíveis, como `[\"50:50\", \"phone\", \"audience\"]`.\n",
        "6. **$c_k^i$**: Fatores de melhoria para cada ajuda na questão $k$.\n",
        "\n",
        "### **Recorrência**\n",
        "Para cada questão $k$, as possíveis ações são avaliadas:\n",
        "\n",
        "1. **Parar o jogo**:\n",
        "   $$\n",
        "   \\text{reward_stop} = r_k\n",
        "   $$\n",
        "\n",
        "2. **Responder à questão**:\n",
        "   $$\n",
        "   \\text{reward_answer} = p_k \\cdot f(k+1, \\text{new_state}) + (1 - p_k) \\cdot r_k^*\n",
        "   $$\n",
        "\n",
        "A recompensa esperada para cada estado $s$ é:\n",
        "$$\n",
        "f(k, s) = \\max(\\text{reward_stop}, \\text{reward_answer})\n",
        "$$"
      ],
      "metadata": {
        "id": "nUkMI4uAfN3t"
      }
    },
    {
      "cell_type": "code",
      "execution_count": 1,
      "metadata": {
        "id": "uMH571nNCZAA"
      },
      "outputs": [],
      "source": [
        "import numpy as np\n",
        "\n",
        "# r_k represents the rewards for answering each question correctly and choosing to stop at that question\n",
        "r_k = [0, 150, 300, 450, 900, 1800, 2100, 2700, 3600, 4500, 9000, 18000, 36000, 72000, 144000, 300000]\n",
        "\n",
        "# r_k_star represents the guaranteed rewards if the contestant fails on a question, returning to the last milestone\n",
        "r_k_star = [0, 0, 0, 0, 0, 1800, 1800, 1800, 1800, 1800, 9000, 9000, 9000, 9000, 9000, 300000]\n",
        "\n",
        "# Lifelines available to the contestant: 50:50, phone, and audience\n",
        "lifelines = [\"50:50\", \"phone\", \"audience\"]\n",
        "\n",
        "# c_k^i represents the improvement factor for each lifeline at each question\n",
        "c_k = {\n",
        "    \"50:50\": [0, 0.672, 0.698, 0.707, 0.711, 0.714, 0.716, 0.717, 0.718, 0.719, 0.719, 0.720, 0.720, 0.721, 0.721],\n",
        "    \"phone\": [0, 0.527, 0.547, 0.554, 0.557, 0.559, 0.561, 0.562,  0.563, 0.563, 0.564, 0.564, 0.564, 0.565, 0.565],\n",
        "    \"audience\": [0, 0.745, 0.773, 0.783, 0.788, 0.791, 0.793, 0.795,  0.796, 0.796, 0.797, 0.798, 0.798, 0.799, 0.799]\n",
        "}\n",
        "\n",
        "# Total number of stages, including the victory stage\n",
        "N = 16\n",
        "# Number of lifelines\n",
        "m = len(lifelines)\n",
        "\n",
        "# p_k_star represents the probability of answering a question correctly without using any lifelines\n",
        "def p_k_star(k):\n",
        "    return max(0, 0.996 - 0.051 * (k - 1))\n",
        "\n",
        "# adjust_probability adjusts the probability of answering correctly when using specific lifelines\n",
        "def adjust_probability(p, used_lifelines, k):\n",
        "    if not used_lifelines:\n",
        "        return p\n",
        "    improvement_factor = np.prod([c_k[lifeline][k] for lifeline in used_lifelines])\n",
        "    return 1 - (1 - p) * improvement_factor\n",
        "\n",
        "# expected_rewards is a dynamic programming table to store the maximum expected rewards at each state\n",
        "expected_rewards = np.zeros((N, 2**m))\n",
        "\n",
        "# Initialize the victory stage. The maximum reward at stage N-1 is the guaranteed reward for correctly answering all questions\n",
        "for state in range(2**m):\n",
        "    expected_rewards[N - 1, state] = r_k_star[N - 1]\n",
        "\n",
        "# Backward induction: calculate expected rewards for each stage and state\n",
        "for stage in range(N - 1, 0, -1):\n",
        "    k = stage - 1\n",
        "    for state in range(2**m):\n",
        "        # Calculate the reward if the contestant chooses to stop\n",
        "        reward_stop = r_k[k]\n",
        "\n",
        "        # Calculate the reward if the contestant answers without using any lifelines\n",
        "        p_no_lifeline = p_k_star(stage)\n",
        "        reward_answer = (\n",
        "            p_no_lifeline * expected_rewards[stage, state] +\n",
        "            (1 - p_no_lifeline) * r_k_star[k]\n",
        "        )\n",
        "\n",
        "        # Determine which lifelines are available in the current state\n",
        "        available_lifelines = [lifelines[i] for i in range(m) if (state >> i) & 1]\n",
        "\n",
        "        # If lifelines are available, calculate the reward using each lifeline\n",
        "        if available_lifelines:\n",
        "            p_with_lifeline = adjust_probability(p_no_lifeline, available_lifelines, k)\n",
        "            new_state = state & ~(sum(1 << i for i, lifeline in enumerate(lifelines) if lifeline in available_lifelines))\n",
        "            reward_answer = max(\n",
        "                reward_answer,\n",
        "                p_with_lifeline * expected_rewards[stage, new_state] +\n",
        "                (1 - p_with_lifeline) * r_k_star[k]\n",
        "            )\n",
        "\n",
        "        # Update the expected reward for the current state\n",
        "        expected_rewards[k, state] = max(reward_stop, reward_answer)\n"
      ]
    },
    {
      "cell_type": "code",
      "source": [
        "# @title\n",
        "# Comparing results with Table 3 from the article\n",
        "print(\"\\nComparison with Table 3 (Expected Rewards for Question 15)\\n\")\n",
        "print(\"State                | f(State)\")\n",
        "print(\"---------------------|-----------------\")\n",
        "\n",
        "# Iterate over all possible terminal states\n",
        "for l1 in [1, 0]:\n",
        "    for l2 in [1, 0]:\n",
        "        for l3 in [1, 0]:\n",
        "            state = (l3 << 2) | (l2 << 1) | l1\n",
        "            expected_reward = expected_rewards[14, state]\n",
        "            print(f\"15,{l1},{l2},{l3:<1}             | {expected_reward:,.1f}\")\n"
      ],
      "metadata": {
        "colab": {
          "base_uri": "https://localhost:8080/"
        },
        "id": "Qz8aCeZaSBlg",
        "outputId": "4ed4a127-570e-49ab-e005-a88360ff8ff5"
      },
      "execution_count": 2,
      "outputs": [
        {
          "output_type": "stream",
          "name": "stdout",
          "text": [
            "\n",
            "Comparison with Table 3 (Expected Rewards for Question 15)\n",
            "\n",
            "State                | f(State)\n",
            "---------------------|-----------------\n",
            "15,1,1,1             | 231,993.9\n",
            "15,1,1,0             | 214,886.0\n",
            "15,1,0,1             | 179,635.2\n",
            "15,1,0,0             | 149,355.7\n",
            "15,0,1,1             | 205,678.1\n",
            "15,0,1,0             | 181,950.0\n",
            "15,0,0,1             | 144,000.0\n",
            "15,0,0,0             | 144,000.0\n"
          ]
        }
      ]
    },
    {
      "cell_type": "markdown",
      "source": [
        "## **Implementação 2: Maximizar a Probabilidade de Alcançar uma Questão**\n",
        "Nesta abordagem, o objetivo é calcular a **estratégia ótima para maximizar a probabilidade de alcançar e responder corretamente uma questão alvo** $w$. Cada estado do jogo é avaliado para determinar a melhor sequência de ações que maximize as chances de sucesso.\n",
        "\n",
        "### **Inputs**\n",
        "1. **$w$**: Número da questão alvo.\n",
        "2. **$N$**: Número total de estágios no jogo (16).\n",
        "3. **$p_k^*$**: Função que calcula a probabilidade de acertar a questão $k$ sem ajudas.\n",
        "4. **Lifelines**: Lista das ajudas disponíveis, como `[\"50:50\", \"phone\", \"audience\"]`.\n",
        "5. **$c_k^i$**: Fatores de melhoria para cada ajuda na questão $k$.\n",
        "\n",
        "### **Recorrência**\n",
        "1. **Condição Base**:\n",
        "   Se $k = w$, a probabilidade de sucesso é $1$:\n",
        "   $$\n",
        "   f(w, \\text{state}) = 1\n",
        "   $$\n",
        "\n",
        "2. **Estados Anteriores**:\n",
        "   A probabilidade máxima de sucesso é calculada como:\n",
        "   $$\n",
        "   f(k, s) = \\max \\left( p_k \\cdot f(k+1, \\text{new\\_state}) \\right)\n",
        "   $$\n"
      ],
      "metadata": {
        "id": "r1ldUCw-gIin"
      }
    },
    {
      "cell_type": "code",
      "source": [
        "import numpy as np\n",
        "\n",
        "def maximize_probability(w, N, c_k, lifelines, p_k_star):\n",
        "    \"\"\"\n",
        "    Computes the maximum probability of reaching and correctly answering a specific question (w)\n",
        "    using dynamic programming.\n",
        "    \"\"\"\n",
        "    # Initialize a 2D array to store maximum probabilities for each state and question\n",
        "    probabilities = np.zeros((N, 2 ** len(lifelines)))\n",
        "\n",
        "    # Base case: If the contestant is already at question `w`, the probability of success is 1\n",
        "    for state in range(2 ** len(lifelines)):\n",
        "        probabilities[w, state] = 1\n",
        "\n",
        "    # Backward induction to compute probabilities for earlier questions\n",
        "    for k in range(w - 1, 0, -1):\n",
        "        for state in range(2 ** len(lifelines)):\n",
        "            # Calculate probability of answering correctly without using any lifelines\n",
        "            p_no_lifeline = p_k_star(k)\n",
        "\n",
        "            # Identify the lifelines available in the current state\n",
        "            available_lifelines = [lifelines[i] for i in range(len(lifelines)) if (state >> i) & 1]\n",
        "\n",
        "            # Base probability (without lifelines)\n",
        "            max_prob = p_no_lifeline * probabilities[k + 1, state]\n",
        "\n",
        "            # Evaluate probabilities for each combination of available lifelines\n",
        "            for lifeline in available_lifelines:\n",
        "                new_state = state & ~(1 << lifelines.index(lifeline))  # Mark the lifeline as used\n",
        "                p_with_lifeline = adjust_probability(p_no_lifeline, [lifeline], k)\n",
        "                max_prob = max(max_prob, p_with_lifeline * probabilities[k + 1, new_state])\n",
        "\n",
        "            # Update the maximum probability for the current state\n",
        "            probabilities[k, state] = max_prob\n",
        "\n",
        "    return probabilities\n",
        "\n",
        "\n",
        "def print_comparison(probabilities, lifelines, w_max):\n",
        "    \"\"\"\n",
        "    Prints a comparison of the maximum probabilities and optimal strategies\n",
        "    for reaching and correctly answering each question.\n",
        "    \"\"\"\n",
        "    print(f\"{'QI':<4} {'Probability of Success':<30} {'Optimal Strategy':<30}\")\n",
        "    print(\"-\" * 70)\n",
        "\n",
        "    for w in range(1, w_max + 1):\n",
        "        # Get the maximum probability for question `w`\n",
        "        max_prob = max(probabilities[w, :])\n",
        "\n",
        "        # Find the state associated with the maximum probability\n",
        "        optimal_state = np.argmax(probabilities[w, :])\n",
        "\n",
        "        # Determine which lifelines were used in the optimal state\n",
        "        used_lifelines = []\n",
        "        for i, lifeline in enumerate(lifelines):\n",
        "            if not ((optimal_state >> i) & 1):  # If the lifeline was used, its bit is 0\n",
        "                used_lifelines.append(lifeline)\n",
        "\n",
        "        # Format the optimal strategy as a readable string\n",
        "        strategy = \" | \".join(used_lifelines) if used_lifelines else \"no lifelines\"\n",
        "\n",
        "        # Print the results for question `w`\n",
        "        print(f\"{w:<4} {max_prob:<30.5f} {strategy:<30}\")"
      ],
      "metadata": {
        "id": "VMEu5NhFVOxC"
      },
      "execution_count": 3,
      "outputs": []
    },
    {
      "cell_type": "code",
      "source": [
        "probabilities = maximize_probability(w=5, N=16, c_k=c_k, lifelines=lifelines, p_k_star=p_k_star)\n",
        "print_comparison(probabilities, lifelines, w_max=15)"
      ],
      "metadata": {
        "colab": {
          "base_uri": "https://localhost:8080/"
        },
        "id": "brbG-06vZoM2",
        "outputId": "35dbaf5f-6ddf-4ef3-a31a-b40d88009fd7"
      },
      "execution_count": 4,
      "outputs": [
        {
          "output_type": "stream",
          "name": "stdout",
          "text": [
            "QI   Probability of Success         Optimal Strategy              \n",
            "----------------------------------------------------------------------\n",
            "1    0.80504                        no lifelines                  \n",
            "2    0.80827                        no lifelines                  \n",
            "3    0.84416                        audience                      \n",
            "4    0.91255                        50:50 | audience              \n",
            "5    1.00000                        50:50 | phone | audience      \n",
            "6    0.00000                        50:50 | phone | audience      \n",
            "7    0.00000                        50:50 | phone | audience      \n",
            "8    0.00000                        50:50 | phone | audience      \n",
            "9    0.00000                        50:50 | phone | audience      \n",
            "10   0.00000                        50:50 | phone | audience      \n",
            "11   0.00000                        50:50 | phone | audience      \n",
            "12   0.00000                        50:50 | phone | audience      \n",
            "13   0.00000                        50:50 | phone | audience      \n",
            "14   0.00000                        50:50 | phone | audience      \n",
            "15   0.00000                        50:50 | phone | audience      \n"
          ]
        }
      ]
    }
  ]
}