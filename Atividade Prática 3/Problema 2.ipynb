{
  "nbformat": 4,
  "nbformat_minor": 0,
  "metadata": {
    "colab": {
      "provenance": []
    },
    "kernelspec": {
      "name": "python3",
      "display_name": "Python 3"
    },
    "language_info": {
      "name": "python"
    }
  },
  "cells": [
    {
      "cell_type": "markdown",
      "source": [
        "### GCC118 - Programação Matemática\n",
        "### Universidade Federal de Lavras\n",
        "#### Instituto de Ciências Exatas e Tecnológicas\n",
        "##### Profa. Andreza C. Beezão Moreira (DMM/UFLA)\n",
        "##### Prof. Mayron César O. Moreira (DCC/UFLA)"
      ],
      "metadata": {
        "id": "9GxPwFVBgqR2"
      }
    },
    {
      "cell_type": "markdown",
      "source": [
        "Seu código deve ser testado na seguinte instância: [link](https://drive.google.com/file/d/12CeZEow-6vVgJFgzXMo0gbjV5hLCM6Zi/view?usp=sharing). O README se encontra em: [link](https://drive.google.com/file/d/1LBTdkDoTQRxUJsKLI4Z38-Uc8oUPCZQ0/view?usp=sharing)."
      ],
      "metadata": {
        "id": "jyYbV5Wng03k"
      }
    },
    {
      "cell_type": "markdown",
      "source": [
        "---"
      ],
      "metadata": {
        "id": "QfSfzo1gyNdo"
      }
    },
    {
      "cell_type": "markdown",
      "source": [
        "## **Alunos**\n",
        "- Heitor Rodrigues Sabino\n",
        "- Ranulfo Mascari Neto"
      ],
      "metadata": {
        "id": "KM2_x-2-3PYk"
      }
    },
    {
      "cell_type": "markdown",
      "source": [
        "---"
      ],
      "metadata": {
        "id": "IIUQR_T53jtQ"
      }
    },
    {
      "cell_type": "markdown",
      "source": [
        "## **Modelagem Matemática do Problema da Mochila 0/1**"
      ],
      "metadata": {
        "id": "SgDlEFP0zYqE"
      }
    },
    {
      "cell_type": "markdown",
      "source": [
        "Dado um conjunto de $ n $ itens, onde:\n",
        "\n",
        "- $ w_i $: peso do item$ i $,\n",
        "- $ v_i $: valor do item$ i $,\n",
        "- $ x_i \\in \\{0, 1\\} $: variável de decisão que indica se o item $ i $ foi selecionado ($ x_i = 1 $) ou não ($ x_i = 0 $),"
      ],
      "metadata": {
        "id": "_fhdqYvLwcbC"
      }
    },
    {
      "cell_type": "markdown",
      "source": [
        "### **Função Objetivo**\n",
        "$\n",
        "\\text{Maximizar } Z = \\sum_{i=1}^n v_i \\cdot x_i\n",
        "$\n"
      ],
      "metadata": {
        "id": "VRkFEhI1xdEb"
      }
    },
    {
      "cell_type": "markdown",
      "source": [
        "### **Restrição de Capacidade**\n",
        "$\n",
        "\\sum_{i=1}^n w_i \\cdot x_i \\leq C\n",
        "$\n",
        "onde $ C $ é a capacidade máxima da mochila."
      ],
      "metadata": {
        "id": "HAZQvPqextBt"
      }
    },
    {
      "cell_type": "markdown",
      "source": [
        "### **Seleção dos Itens**\n",
        "A seleção dos itens na solução ótima pode ser representada como:\n",
        "$\n",
        "\\mathcal{S} = \\{ i \\in \\{1, 2, \\dots, n\\} \\mid x_i^* = 1 \\}\n",
        "$\n",
        "\n",
        "$ x_i^* $ representa o valor ótimo da variável de decisão para o item $ i $, obtido após a solução do modelo."
      ],
      "metadata": {
        "id": "F9Atc_0xx2Yf"
      }
    },
    {
      "cell_type": "markdown",
      "source": [
        "---"
      ],
      "metadata": {
        "id": "wyl-rXnjzIEy"
      }
    },
    {
      "cell_type": "markdown",
      "source": [
        "## **Implementação**"
      ],
      "metadata": {
        "id": "rT_0Ij2hzI_m"
      }
    },
    {
      "cell_type": "markdown",
      "source": [
        "### **Importando e pip**"
      ],
      "metadata": {
        "id": "zvfKq9E1zjuq"
      }
    },
    {
      "cell_type": "code",
      "source": [
        "!pip install gurobipy"
      ],
      "metadata": {
        "id": "eoBilcJxzssA",
        "outputId": "c402f848-5ce6-44db-85be-bbd464f7ed6c",
        "colab": {
          "base_uri": "https://localhost:8080/"
        }
      },
      "execution_count": null,
      "outputs": [
        {
          "output_type": "stream",
          "name": "stdout",
          "text": [
            "Requirement already satisfied: gurobipy in /usr/local/lib/python3.10/dist-packages (12.0.0)\n"
          ]
        }
      ]
    },
    {
      "cell_type": "code",
      "source": [
        "from gurobipy import Model, GRB\n",
        "import time"
      ],
      "metadata": {
        "id": "hYCKeycQzPZm"
      },
      "execution_count": null,
      "outputs": []
    },
    {
      "cell_type": "markdown",
      "source": [
        "### **Dados**"
      ],
      "metadata": {
        "id": "OTElL9PRzvu9"
      }
    },
    {
      "cell_type": "code",
      "source": [
        "def read_input_from_file(file_path):\n",
        "    with open(file_path, 'r') as file:\n",
        "        lines = file.readlines()\n",
        "\n",
        "    weights = []\n",
        "    values = []\n",
        "\n",
        "    instance_name = lines[0].strip()\n",
        "    instance_class = lines[1].strip()\n",
        "\n",
        "    capacity = int(lines[2].strip())\n",
        "\n",
        "    for i, line in enumerate(lines[3:], start=4):\n",
        "        line = line.strip()\n",
        "        if line:\n",
        "            weight, value = map(int, line.split())\n",
        "            weights.append(weight)\n",
        "            values.append(value)\n",
        "\n",
        "    return weights, values, capacity\n"
      ],
      "metadata": {
        "id": "C4cF2aC-z1bv"
      },
      "execution_count": null,
      "outputs": []
    },
    {
      "cell_type": "markdown",
      "source": [
        "### **Branch and Bound Knapsack**"
      ],
      "metadata": {
        "id": "cAUvKOKW0PoA"
      }
    },
    {
      "cell_type": "code",
      "source": [
        "def greedy_fractional_knapsack(weights, values, capacity):\n",
        "    items = sorted([(values[i] / weights[i], weights[i], values[i]) for i in range(len(weights))], reverse=True)\n",
        "    total_value = 0\n",
        "    for ratio, weight, value in items:\n",
        "        if capacity >= weight:\n",
        "            capacity -= weight\n",
        "            total_value += value\n",
        "        else:\n",
        "            total_value += ratio * capacity\n",
        "            break\n",
        "    return total_value"
      ],
      "metadata": {
        "id": "-NA-klv10niJ"
      },
      "execution_count": null,
      "outputs": []
    },
    {
      "cell_type": "code",
      "execution_count": null,
      "metadata": {
        "id": "C8uA2IgpgmpD"
      },
      "outputs": [],
      "source": [
        "def branch_and_bound_knapsack(weights, values, capacity):\n",
        "    start_time = time.time()\n",
        "    num_items = len(weights)\n",
        "\n",
        "    model = Model(\"Knapsack\")\n",
        "\n",
        "    x = model.addVars(num_items, vtype=GRB.BINARY, name=\"x\")\n",
        "\n",
        "    model.setObjective(sum(values[i] * x[i] for i in range(num_items)), GRB.MAXIMIZE)\n",
        "\n",
        "    model.addConstr(sum(weights[i] * x[i] for i in range(num_items)) <= capacity, \"capacity\")\n",
        "\n",
        "    model.optimize()\n",
        "\n",
        "    if model.status == GRB.OPTIMAL:\n",
        "        max_value = model.objVal\n",
        "        selected_items = [i for i in range(num_items) if x[i].X > 0.5]\n",
        "    else:\n",
        "        max_value = None\n",
        "        selected_items = []\n",
        "\n",
        "    end_time = time.time()\n",
        "\n",
        "    fractional_value = greedy_fractional_knapsack(weights, values, capacity)\n",
        "    gap = (fractional_value - max_value) / fractional_value * 100 if fractional_value > 0 else 0\n",
        "\n",
        "    return {\n",
        "        \"max_value\": max_value,\n",
        "        \"selected_items\": selected_items,\n",
        "        \"num_nodes_explored\": model.NodeCount,\n",
        "        \"gap\": gap,\n",
        "        \"time\": end_time - start_time\n",
        "    }"
      ]
    },
    {
      "cell_type": "markdown",
      "source": [
        "### **Exibindo solução**"
      ],
      "metadata": {
        "id": "7H89A6Wd0pi8"
      }
    },
    {
      "cell_type": "code",
      "source": [
        "file_path = \"Weakly001\"\n",
        "weights, values, capacity = read_input_from_file(file_path)\n",
        "result = branch_and_bound_knapsack(weights, values, capacity)\n",
        "print(f\"Max Value: {result['max_value']}\")\n",
        "print(f\"Selected Items: {result['selected_items']}\")\n",
        "print(f\"Number of Nodes Explored: {result['num_nodes_explored']}\")\n",
        "print(f\"GAP: {result['gap']:.2f}%\")\n",
        "print(f\"Time: {result['time']:.4f} seconds\")"
      ],
      "metadata": {
        "id": "DDKIVQ4V0vtQ",
        "outputId": "2117ff5e-d588-40ad-b808-a76acaa89386",
        "colab": {
          "base_uri": "https://localhost:8080/"
        }
      },
      "execution_count": null,
      "outputs": [
        {
          "output_type": "stream",
          "name": "stdout",
          "text": [
            "Restricted license - for non-production use only - expires 2026-11-23\n",
            "Gurobi Optimizer version 12.0.0 build v12.0.0rc1 (linux64 - \"Ubuntu 22.04.3 LTS\")\n",
            "\n",
            "CPU model: Intel(R) Xeon(R) CPU @ 2.20GHz, instruction set [SSE2|AVX|AVX2]\n",
            "Thread count: 1 physical cores, 2 logical processors, using up to 2 threads\n",
            "\n",
            "Optimize a model with 1 rows, 1000 columns and 1000 nonzeros\n",
            "Model fingerprint: 0x9ed7d31e\n",
            "Variable types: 0 continuous, 1000 integer (1000 binary)\n",
            "Coefficient statistics:\n",
            "  Matrix range     [1e+00, 1e+03]\n",
            "  Objective range  [3e+00, 1e+03]\n",
            "  Bounds range     [1e+00, 1e+00]\n",
            "  RHS range        [2e+03, 2e+03]\n",
            "Found heuristic solution: objective 2709.0000000\n",
            "Presolve removed 0 rows and 17 columns\n",
            "Presolve time: 0.03s\n",
            "Presolved: 1 rows, 983 columns, 983 nonzeros\n",
            "Variable types: 0 continuous, 983 integer (979 binary)\n",
            "\n",
            "Root relaxation: objective 4.887475e+03, 1 iterations, 0.00 seconds (0.00 work units)\n",
            "\n",
            "    Nodes    |    Current Node    |     Objective Bounds      |     Work\n",
            " Expl Unexpl |  Obj  Depth IntInf | Incumbent    BestBd   Gap | It/Node Time\n",
            "\n",
            "     0     0 4887.47541    0    1 2709.00000 4887.47541  80.4%     -    0s\n",
            "H    0     0                    4877.0000000 4887.47541  0.21%     -    0s\n",
            "H    0     0                    4886.0000000 4887.47541  0.03%     -    0s\n",
            "     0     0 4887.47541    0    1 4886.00000 4887.47541  0.03%     -    0s\n",
            "\n",
            "Explored 1 nodes (1 simplex iterations) in 0.07 seconds (0.01 work units)\n",
            "Thread count was 2 (of 2 available processors)\n",
            "\n",
            "Solution count 3: 4886 4877 2709 \n",
            "\n",
            "Optimal solution found (tolerance 1.00e-04)\n",
            "Best objective 4.886000000000e+03, best bound 4.886000000000e+03, gap 0.0000%\n",
            "Max Value: 4886.0\n",
            "Selected Items: [0, 3, 9, 12, 13, 30, 78, 102, 110, 139, 181, 218, 293, 295, 316, 328, 331, 369, 395, 470, 472, 496, 504, 511, 555, 557, 573, 590, 618, 631, 674, 686, 689, 699, 744, 751, 788, 792, 837, 841, 886, 901, 922, 930, 936, 954, 967, 978, 988, 989, 993]\n",
            "Number of Nodes Explored: 1.0\n",
            "GAP: 0.03%\n",
            "Time: 0.1090 seconds\n"
          ]
        }
      ]
    }
  ]
}